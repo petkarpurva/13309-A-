{
 "cells": [
  {
   "cell_type": "code",
   "execution_count": 2,
   "id": "cd86f011-7692-431a-a135-67fb1394f902",
   "metadata": {},
   "outputs": [],
   "source": [
    "import numpy as np\n",
    "a = np.array([\n",
    "    [100,200,150,300],\n",
    "    [50,60,40,80],\n",
    "    [300,400,350,500],\n",
    "    [200,250,220,270],\n",
    "    [80,90,70,100]\n",
    "])"
   ]
  },
  {
   "cell_type": "code",
   "execution_count": 5,
   "id": "c646fab7-2e11-4a09-8f53-c5a58bfdcf8d",
   "metadata": {},
   "outputs": [
    {
     "name": "stdout",
     "output_type": "stream",
     "text": [
      "Number of dimensions: 2\n"
     ]
    }
   ],
   "source": [
    "dimensions = a.ndim\n",
    "print(\"Number of dimensions:\", dimensions)"
   ]
  },
  {
   "cell_type": "code",
   "execution_count": 6,
   "id": "14b68eb9-0cf6-49b3-a5a1-40a075821734",
   "metadata": {},
   "outputs": [
    {
     "name": "stdout",
     "output_type": "stream",
     "text": [
      "Data type: int64\n"
     ]
    }
   ],
   "source": [
    "data_type = a.dtype\n",
    "print(\"Data type:\", data_type)"
   ]
  },
  {
   "cell_type": "code",
   "execution_count": 7,
   "id": "44c7aebb-01e6-4d4e-9e76-52840352088f",
   "metadata": {},
   "outputs": [
    {
     "name": "stdout",
     "output_type": "stream",
     "text": [
      "Total elements: 20\n"
     ]
    }
   ],
   "source": [
    "total_elements = a.size\n",
    "print(\"Total elements:\", total_elements)"
   ]
  },
  {
   "cell_type": "code",
   "execution_count": 8,
   "id": "e67bb494-b9a0-486a-b7b1-8d0023e91f7c",
   "metadata": {},
   "outputs": [
    {
     "name": "stdout",
     "output_type": "stream",
     "text": [
      "Memory usage (bytes): 160\n"
     ]
    }
   ],
   "source": [
    "memory_usage = a.nbytes\n",
    "print(\"Memory usage (bytes):\", memory_usage)"
   ]
  },
  {
   "cell_type": "code",
   "execution_count": 9,
   "id": "290c00a3-bdc1-4a0f-847a-54d18756a661",
   "metadata": {},
   "outputs": [
    {
     "name": "stdout",
     "output_type": "stream",
     "text": [
      "Updated stock after adding 20: [[120 220 170 320]\n",
      " [ 70  80  60 100]\n",
      " [320 420 370 520]\n",
      " [220 270 240 290]\n",
      " [100 110  90 120]]\n"
     ]
    }
   ],
   "source": [
    "updated_stock = a + 20\n",
    "print(\"Updated stock after adding 20:\", updated_stock)"
   ]
  },
  {
   "cell_type": "code",
   "execution_count": 10,
   "id": "30691179-f8a4-43db-8162-17df15a1e486",
   "metadata": {},
   "outputs": [
    {
     "name": "stdout",
     "output_type": "stream",
     "text": [
      "Stock after deducting 10 from Product 3: [290 390 340 490]\n"
     ]
    }
   ],
   "source": [
    "a[2] -= 10\n",
    "print(\"Stock after deducting 10 from Product 3:\", a[2])"
   ]
  },
  {
   "cell_type": "code",
   "execution_count": 11,
   "id": "a547e8d6-99e2-4992-933b-0f6016cb4cf8",
   "metadata": {},
   "outputs": [
    {
     "name": "stdout",
     "output_type": "stream",
     "text": [
      "Stock after doubling Location 2: [[100 400 150 300]\n",
      " [ 50 120  40  80]\n",
      " [290 780 340 490]\n",
      " [200 500 220 270]\n",
      " [ 80 180  70 100]]\n"
     ]
    }
   ],
   "source": [
    "a[:, 1] *= 2\n",
    "print(\"Stock after doubling Location 2:\", a)"
   ]
  },
  {
   "cell_type": "code",
   "execution_count": 12,
   "id": "e26ff6eb-f591-41d1-8bdd-9da9bd9a84dc",
   "metadata": {},
   "outputs": [
    {
     "name": "stdout",
     "output_type": "stream",
     "text": [
      "Stock percentage: [[10. 40. 15. 30.]\n",
      " [ 5. 12.  4.  8.]\n",
      " [29. 78. 34. 49.]\n",
      " [20. 50. 22. 27.]\n",
      " [ 8. 18.  7. 10.]]\n"
     ]
    }
   ],
   "source": [
    "max_capacity = 1000\n",
    "percentage_stock = (a / max_capacity) * 100\n",
    "print(\"Stock percentage:\", percentage_stock)"
   ]
  },
  {
   "cell_type": "code",
   "execution_count": 13,
   "id": "8df782ca-a90b-4185-80d9-1e2fd8f38c8e",
   "metadata": {},
   "outputs": [
    {
     "name": "stdout",
     "output_type": "stream",
     "text": [
      "Total stock per product: [ 950  290 1900 1190  430]\n"
     ]
    }
   ],
   "source": [
    "product_totals = np.sum(a, axis=1)\n",
    "print(\"Total stock per product:\", product_totals)"
   ]
  },
  {
   "cell_type": "code",
   "execution_count": 14,
   "id": "79ae30a6-8605-47ab-89b6-b76b4b7fa734",
   "metadata": {},
   "outputs": [
    {
     "name": "stdout",
     "output_type": "stream",
     "text": [
      "Total stock per location: [ 720 1980  820 1240]\n"
     ]
    }
   ],
   "source": [
    "location_totals = np.sum(a, axis=0)\n",
    "print(\"Total stock per location:\", location_totals)"
   ]
  },
  {
   "cell_type": "code",
   "execution_count": 15,
   "id": "1b7bfdca-586c-43c6-a885-8d558746da3e",
   "metadata": {},
   "outputs": [
    {
     "name": "stdout",
     "output_type": "stream",
     "text": [
      "Max stock per location: [290 780 340 490]\n"
     ]
    }
   ],
   "source": [
    "max_stock_per_location = np.max(a, axis=0)\n",
    "print(\"Max stock per location:\", max_stock_per_location)"
   ]
  },
  {
   "cell_type": "code",
   "execution_count": 16,
   "id": "9d288cfb-8587-4619-a83f-426121b42cbb",
   "metadata": {},
   "outputs": [
    {
     "name": "stdout",
     "output_type": "stream",
     "text": [
      "Min stock per product: [100  40 290 200  70]\n"
     ]
    }
   ],
   "source": [
    "min_stock_per_product = np.min(a, axis=1)\n",
    "print(\"Min stock per product:\", min_stock_per_product)"
   ]
  },
  {
   "cell_type": "code",
   "execution_count": 17,
   "id": "4d9856d3-9abf-497d-bb9e-15919ff2c95e",
   "metadata": {},
   "outputs": [
    {
     "name": "stdout",
     "output_type": "stream",
     "text": [
      "Average stock per product: [237.5  72.5 475.  297.5 107.5]\n"
     ]
    }
   ],
   "source": [
    "avg_stock_per_product = np.mean(a, axis=1)\n",
    "print(\"Average stock per product:\", avg_stock_per_product)"
   ]
  },
  {
   "cell_type": "code",
   "execution_count": 18,
   "id": "cd13c8ff-4f39-4d24-b6b5-4c6912710731",
   "metadata": {},
   "outputs": [
    {
     "name": "stdout",
     "output_type": "stream",
     "text": [
      "Stock levels of Product 2: [ 50 120  40  80]\n"
     ]
    }
   ],
   "source": [
    "a_product_2 = a[1]\n",
    "print(\"Stock levels of Product 2:\", a_product_2)"
   ]
  },
  {
   "cell_type": "code",
   "execution_count": 19,
   "id": "a12bdb44-fbc2-4409-a9c6-a60efd08f202",
   "metadata": {},
   "outputs": [
    {
     "name": "stdout",
     "output_type": "stream",
     "text": [
      "Stock levels at Location 3: [150  40 340 220  70]\n"
     ]
    }
   ],
   "source": [
    "a_location_3 = a[:, 2]\n",
    "print(\"Stock levels at Location 3:\", a_location_3)"
   ]
  },
  {
   "cell_type": "code",
   "execution_count": 20,
   "id": "e76f5dc7-bbba-4e56-9ac3-123209c37d94",
   "metadata": {},
   "outputs": [
    {
     "name": "stdout",
     "output_type": "stream",
     "text": [
      "Stock of Product 3 at Location 2 and Product 4 at Location 4: [780 270]\n"
     ]
    }
   ],
   "source": [
    "bb = a[[2, 3], [1, 3]]\n",
    "print(\"Stock of Product 3 at Location 2 and Product 4 at Location 4:\", bb)"
   ]
  },
  {
   "cell_type": "code",
   "execution_count": 21,
   "id": "b6d59a1b-726d-4b1b-9719-3b5339af01c5",
   "metadata": {},
   "outputs": [
    {
     "name": "stdout",
     "output_type": "stream",
     "text": [
      "Stock of first 3 products at first 2 locations: [[100 400]\n",
      " [ 50 120]\n",
      " [290 780]]\n"
     ]
    }
   ],
   "source": [
    "subset_1 = a[0:3, 0:2]\n",
    "print(\"Stock of first 3 products at first 2 locations:\", subset_1)"
   ]
  },
  {
   "cell_type": "code",
   "execution_count": 22,
   "id": "2e702120-808c-4cf9-9615-01e950491376",
   "metadata": {},
   "outputs": [
    {
     "name": "stdout",
     "output_type": "stream",
     "text": [
      "Stock of last 2 products at last 2 locations: [[220 270]\n",
      " [ 70 100]]\n"
     ]
    }
   ],
   "source": [
    "subset_2 = a[3:5, 2:4]\n",
    "print(\"Stock of last 2 products at last 2 locations:\", subset_2)"
   ]
  },
  {
   "cell_type": "code",
   "execution_count": 23,
   "id": "81ba9d53-2ed5-4f96-8267-090307a097a7",
   "metadata": {},
   "outputs": [
    {
     "name": "stdout",
     "output_type": "stream",
     "text": [
      "Stock of Product 5 at Location 3: 70\n"
     ]
    }
   ],
   "source": [
    "stock_p5_l3 = a[4, 2]\n",
    "print(\"Stock of Product 5 at Location 3:\", stock_p5_l3)"
   ]
  },
  {
   "cell_type": "code",
   "execution_count": 24,
   "id": "cfc412f9-26dd-4d4d-925e-c6e7aabdbb34",
   "metadata": {},
   "outputs": [
    {
     "name": "stdout",
     "output_type": "stream",
     "text": [
      "Stock levels of Product 1 at Location 1 and Product 4 at Location 3: [100 220]\n"
     ]
    }
   ],
   "source": [
    "products = [0, 3]\n",
    "locations = [0, 2]\n",
    "stock_levels = a[products, locations]\n",
    "print(\"Stock levels of Product 1 at Location 1 and Product 4 at Location 3:\", stock_levels)"
   ]
  },
  {
   "cell_type": "code",
   "execution_count": 25,
   "id": "76bdb8fb-5d8e-4c2e-9c69-62f424b08cb5",
   "metadata": {},
   "outputs": [
    {
     "name": "stdout",
     "output_type": "stream",
     "text": [
      "Updated stock array: [[100 400 150 300]\n",
      " [ 50 120  40 100]\n",
      " [290 780 340 490]\n",
      " [200 500 220 270]\n",
      " [ 80 180  70 100]]\n"
     ]
    }
   ],
   "source": [
    "a[1, 3] = 100\n",
    "print(\"Updated stock array:\", a)"
   ]
  }
 ],
 "metadata": {
  "kernelspec": {
   "display_name": "Python 3 (ipykernel)",
   "language": "python",
   "name": "python3"
  },
  "language_info": {
   "codemirror_mode": {
    "name": "ipython",
    "version": 3
   },
   "file_extension": ".py",
   "mimetype": "text/x-python",
   "name": "python",
   "nbconvert_exporter": "python",
   "pygments_lexer": "ipython3",
   "version": "3.12.3"
  }
 },
 "nbformat": 4,
 "nbformat_minor": 5
}
