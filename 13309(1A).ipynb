{
 "cells": [
  {
   "cell_type": "code",
   "execution_count": 1,
   "id": "213d7edd-5e9f-4e13-83b3-3de83f5d19c3",
   "metadata": {},
   "outputs": [
    {
     "name": "stdout",
     "output_type": "stream",
     "text": [
      "Number of dimensions: 2\n"
     ]
    }
   ],
   "source": [
    "import numpy as np\n",
    "inventory = np.array([\n",
    "    [100, 150, 200, 250],  # Product 1\n",
    "    [120, 180, 240, 300],  # Product 2\n",
    "    [130, 190, 260, 310],  # Product 3\n",
    "    [140, 210, 280, 350],  # Product 4\n",
    "    [150, 220, 290, 360]   # Product 5\n",
    "])\n",
    "num_dimensions = inventory.ndim\n",
    "print(f\"Number of dimensions: {num_dimensions}\")"
   ]
  },
  {
   "cell_type": "code",
   "execution_count": 2,
   "id": "a12a89b5-d704-45c7-a9b2-da1e6c48cf0b",
   "metadata": {},
   "outputs": [
    {
     "name": "stdout",
     "output_type": "stream",
     "text": [
      "Data type: int64\n"
     ]
    }
   ],
   "source": [
    "data_type = inventory.dtype\n",
    "print(f\"Data type: {data_type}\")"
   ]
  },
  {
   "cell_type": "code",
   "execution_count": 3,
   "id": "b1af7854-dce7-4334-b78f-42869cc5cc78",
   "metadata": {},
   "outputs": [
    {
     "name": "stdout",
     "output_type": "stream",
     "text": [
      "Memory usage: 160 bytes\n"
     ]
    }
   ],
   "source": [
    "memory_usage = inventory.nbytes\n",
    "print(f\"Memory usage: {memory_usage} bytes\")"
   ]
  },
  {
   "cell_type": "code",
   "execution_count": 4,
   "id": "5597a4ba-ee93-4ed4-9bff-d794b5790ffe",
   "metadata": {},
   "outputs": [
    {
     "name": "stdout",
     "output_type": "stream",
     "text": [
      "Inventory after adding 20 units to all products:\n",
      "[[120 170 220 270]\n",
      " [140 200 260 320]\n",
      " [150 210 280 330]\n",
      " [160 230 300 370]\n",
      " [170 240 310 380]]\n"
     ]
    }
   ],
   "source": [
    "inventory += 20\n",
    "print(\"Inventory after adding 20 units to all products:\")\n",
    "print(inventory)"
   ]
  },
  {
   "cell_type": "code",
   "execution_count": 5,
   "id": "75a09f51-0059-4d65-90bf-df4a59b47de4",
   "metadata": {},
   "outputs": [
    {
     "name": "stdout",
     "output_type": "stream",
     "text": [
      "Inventory after deducting 10 units from Product 3:\n",
      "[[120 170 220 270]\n",
      " [140 200 260 320]\n",
      " [140 200 270 320]\n",
      " [160 230 300 370]\n",
      " [170 240 310 380]]\n"
     ]
    }
   ],
   "source": [
    "inventory[2] -= 10  # Product 3 is at index 2\n",
    "print(\"Inventory after deducting 10 units from Product 3:\")\n",
    "print(inventory)"
   ]
  },
  {
   "cell_type": "code",
   "execution_count": 6,
   "id": "d868ab77-6d7d-46f5-9268-e292dcb381b7",
   "metadata": {},
   "outputs": [
    {
     "name": "stdout",
     "output_type": "stream",
     "text": [
      "Inventory after doubling the stock at Location 2:\n",
      "[[120 340 220 270]\n",
      " [140 400 260 320]\n",
      " [140 400 270 320]\n",
      " [160 460 300 370]\n",
      " [170 480 310 380]]\n"
     ]
    }
   ],
   "source": [
    "inventory[:, 1] *= 2  # Location 2 is at index 1\n",
    "print(\"Inventory after doubling the stock at Location 2:\")\n",
    "print(inventory)"
   ]
  },
  {
   "cell_type": "code",
   "execution_count": 7,
   "id": "c0213b46-55e5-463a-b3ba-cbfcafa6d4b6",
   "metadata": {},
   "outputs": [
    {
     "name": "stdout",
     "output_type": "stream",
     "text": [
      "Percentage of stock available for each product at all locations:\n",
      "[[12. 34. 22. 27.]\n",
      " [14. 40. 26. 32.]\n",
      " [14. 40. 27. 32.]\n",
      " [16. 46. 30. 37.]\n",
      " [17. 48. 31. 38.]]\n"
     ]
    }
   ],
   "source": [
    "max_capacity = 1000\n",
    "percentage_stock = (inventory / max_capacity) * 100\n",
    "print(\"Percentage of stock available for each product at all locations:\")\n",
    "print(percentage_stock)"
   ]
  },
  {
   "cell_type": "code",
   "execution_count": 8,
   "id": "9c5769a0-5b8f-4ec8-bd3d-eaec3279309f",
   "metadata": {},
   "outputs": [
    {
     "name": "stdout",
     "output_type": "stream",
     "text": [
      "Total stock of each product across all locations:\n",
      "[ 950 1120 1130 1290 1340]\n"
     ]
    }
   ],
   "source": [
    "total_stock_per_product = inventory.sum(axis=1)\n",
    "print(\"Total stock of each product across all locations:\")\n",
    "print(total_stock_per_product)"
   ]
  },
  {
   "cell_type": "code",
   "execution_count": 9,
   "id": "ea8b6e0f-025f-4ed5-9c60-1d62d2b9338d",
   "metadata": {},
   "outputs": [
    {
     "name": "stdout",
     "output_type": "stream",
     "text": [
      "Total stock available in each location:\n",
      "[ 730 2080 1360 1660]\n"
     ]
    }
   ],
   "source": [
    "total_stock_per_location = inventory.sum(axis=0)\n",
    "print(\"Total stock available in each location:\")\n",
    "print(total_stock_per_location)"
   ]
  },
  {
   "cell_type": "code",
   "execution_count": 10,
   "id": "6a2b2abd-318f-40c2-8fac-fce999152788",
   "metadata": {},
   "outputs": [
    {
     "name": "stdout",
     "output_type": "stream",
     "text": [
      "Product with maximum total stock: Product 5\n"
     ]
    }
   ],
   "source": [
    "product_with_max_stock = np.argmax(total_stock_per_product)\n",
    "print(f\"Product with maximum total stock: Product {product_with_max_stock + 1}\")"
   ]
  },
  {
   "cell_type": "code",
   "execution_count": 11,
   "id": "d0f2d321-2a43-4807-8ed9-58671dc41c26",
   "metadata": {},
   "outputs": [
    {
     "name": "stdout",
     "output_type": "stream",
     "text": [
      "Location with minimum total stock: Location 1\n"
     ]
    }
   ],
   "source": [
    "location_with_min_stock = np.argmin(total_stock_per_location)\n",
    "print(f\"Location with minimum total stock: Location {location_with_min_stock + 1}\")"
   ]
  },
  {
   "cell_type": "code",
   "execution_count": 12,
   "id": "51bef75f-0bd6-407a-ab63-ce2fcd890293",
   "metadata": {},
   "outputs": [
    {
     "name": "stdout",
     "output_type": "stream",
     "text": [
      "Average stock per product across all locations:\n",
      "[237.5 280.  282.5 322.5 335. ]\n"
     ]
    }
   ],
   "source": [
    "average_stock_per_product = inventory.mean(axis=1)\n",
    "print(\"Average stock per product across all locations:\")\n",
    "print(average_stock_per_product)"
   ]
  },
  {
   "cell_type": "code",
   "execution_count": 13,
   "id": "5d1a3b8a-ad9c-4272-b148-372066e502a0",
   "metadata": {},
   "outputs": [
    {
     "name": "stdout",
     "output_type": "stream",
     "text": [
      "Total number of elements in the array: 20\n"
     ]
    }
   ],
   "source": [
    "total_elements = inventory.size\n",
    "print(f\"Total number of elements in the array: {total_elements}\")"
   ]
  },
  {
   "cell_type": "code",
   "execution_count": 14,
   "id": "096ab836-6574-45cc-8763-16f1e5245028",
   "metadata": {},
   "outputs": [
    {
     "name": "stdout",
     "output_type": "stream",
     "text": [
      "Stock levels of Product 2 across all locations:\n",
      "[140 400 260 320]\n"
     ]
    }
   ],
   "source": [
    "product_2_stock = inventory[1, :]\n",
    "print(\"Stock levels of Product 2 across all locations:\")\n",
    "print(product_2_stock)"
   ]
  },
  {
   "cell_type": "code",
   "execution_count": 15,
   "id": "bbfaef4a-9969-4114-95bf-fb9900f1a0c8",
   "metadata": {},
   "outputs": [
    {
     "name": "stdout",
     "output_type": "stream",
     "text": [
      "Stock levels for all products in Location 3:\n",
      "[220 260 270 300 310]\n"
     ]
    }
   ],
   "source": [
    "location_3_stock = inventory[:, 2]\n",
    "print(\"Stock levels for all products in Location 3:\")\n",
    "print(location_3_stock)"
   ]
  },
  {
   "cell_type": "code",
   "execution_count": 16,
   "id": "2d300f7a-7d6c-46ed-ba6f-66b1cb2c45ce",
   "metadata": {},
   "outputs": [
    {
     "name": "stdout",
     "output_type": "stream",
     "text": [
      "Stock levels of Products 3 and 4 for Locations 2 and 4:\n",
      "[[400 320]\n",
      " [460 370]]\n"
     ]
    }
   ],
   "source": [
    "selected_stock = inventory[2:4, [1, 3]]\n",
    "print(\"Stock levels of Products 3 and 4 for Locations 2 and 4:\")\n",
    "print(selected_stock)"
   ]
  },
  {
   "cell_type": "code",
   "execution_count": 17,
   "id": "fee9dbd7-be3a-4438-a1f8-3c727f5676e7",
   "metadata": {},
   "outputs": [
    {
     "name": "stdout",
     "output_type": "stream",
     "text": [
      "Stock levels of the first 3 products for the first 2 locations:\n",
      "[[120 340]\n",
      " [140 400]\n",
      " [140 400]]\n"
     ]
    }
   ],
   "source": [
    "sliced_stock = inventory[:3, :2]\n",
    "print(\"Stock levels of the first 3 products for the first 2 locations:\")\n",
    "print(sliced_stock)"
   ]
  },
  {
   "cell_type": "code",
   "execution_count": 18,
   "id": "d8a08f60-391f-47c0-8b39-2f0ca10a2a5b",
   "metadata": {},
   "outputs": [
    {
     "name": "stdout",
     "output_type": "stream",
     "text": [
      "Stock levels of the last 2 products for the last 2 locations:\n",
      "[[300 370]\n",
      " [310 380]]\n"
     ]
    }
   ],
   "source": [
    "sliced_stock = inventory[3:, 2:]\n",
    "print(\"Stock levels of the last 2 products for the last 2 locations:\")\n",
    "print(sliced_stock)"
   ]
  },
  {
   "cell_type": "code",
   "execution_count": 20,
   "id": "814f224b-a61c-4171-85cd-ffad5a01504b",
   "metadata": {},
   "outputs": [
    {
     "name": "stdout",
     "output_type": "stream",
     "text": [
      "Stock level of Product 5 at Location 3: 310\n"
     ]
    }
   ],
   "source": [
    "product_5_location_3_stock = inventory[4, 2]\n",
    "print(\"Stock level of Product 5 at Location 3:\", product_5_location_3_stock)"
   ]
  },
  {
   "cell_type": "code",
   "execution_count": 21,
   "id": "2a6390a0-f71c-4a25-9b26-fe8695513209",
   "metadata": {},
   "outputs": [
    {
     "name": "stdout",
     "output_type": "stream",
     "text": [
      "Stock levels of Product 1 at Location 1 and Product 4 at Location 3:\n",
      "[120 300]\n"
     ]
    }
   ],
   "source": [
    "selected_stock = inventory[[0, 3], [0, 2]]\n",
    "print(\"Stock levels of Product 1 at Location 1 and Product 4 at Location 3:\")\n",
    "print(selected_stock)"
   ]
  },
  {
   "cell_type": "code",
   "execution_count": 23,
   "id": "ff2bde4d-da7f-4412-a195-4628cea27d30",
   "metadata": {},
   "outputs": [
    {
     "name": "stdout",
     "output_type": "stream",
     "text": [
      "Inventory after updating the stock of Product 2 at Location 4:\n",
      "[[120 340 220 270]\n",
      " [140 400 260 100]\n",
      " [140 400 270 320]\n",
      " [160 460 300 370]\n",
      " [170 480 310 380]]\n"
     ]
    }
   ],
   "source": [
    "inventory[1, 3] = 100\n",
    "print(\"Inventory after updating the stock of Product 2 at Location 4:\")\n",
    "print(inventory)"
   ]
  },
  {
   "cell_type": "code",
   "execution_count": null,
   "id": "737329e0-8ff5-4928-8302-c0a135a24f41",
   "metadata": {},
   "outputs": [],
   "source": []
  }
 ],
 "metadata": {
  "kernelspec": {
   "display_name": "Python 3 (ipykernel)",
   "language": "python",
   "name": "python3"
  },
  "language_info": {
   "codemirror_mode": {
    "name": "ipython",
    "version": 3
   },
   "file_extension": ".py",
   "mimetype": "text/x-python",
   "name": "python",
   "nbconvert_exporter": "python",
   "pygments_lexer": "ipython3",
   "version": "3.12.3"
  }
 },
 "nbformat": 4,
 "nbformat_minor": 5
}
