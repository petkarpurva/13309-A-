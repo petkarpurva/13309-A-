{
 "cells": [
  {
   "cell_type": "code",
   "execution_count": 2,
   "id": "f65fc700-a7a0-46f5-b9bd-5d9278dbe293",
   "metadata": {},
   "outputs": [],
   "source": [
    "import pandas as pd\n",
    "data = {\n",
    "    \"Location1\": [100, 50, 300, 200, 80],\n",
    "    \"Location2\": [200, 60, 400, 250, 90],\n",
    "    \"Location3\": [150, 40, 350, 220, 70],\n",
    "    \"Location4\": [300, 80, 500, 270, 100]\n",
    "}\n",
    "inventory = pd.DataFrame(data, index=[\"Product1\", \"Product2\", \"Product3\", \"Product4\", \"Product5\"])"
   ]
  },
  {
   "cell_type": "code",
   "execution_count": 3,
   "id": "932d9009-7e87-4f4a-aaaf-cca5c62ac15a",
   "metadata": {},
   "outputs": [
    {
     "name": "stdout",
     "output_type": "stream",
     "text": [
      "          Location1  Location2  Location3  Location4\n",
      "Product1        100        200        150        300\n",
      "Product2         50         60         40         80\n"
     ]
    }
   ],
   "source": [
    "print(inventory.head(2))"
   ]
  },
  {
   "cell_type": "code",
   "execution_count": 4,
   "id": "63d70dfa-76ac-413e-8634-77754689debf",
   "metadata": {},
   "outputs": [
    {
     "name": "stdout",
     "output_type": "stream",
     "text": [
      "(5, 4)\n"
     ]
    }
   ],
   "source": [
    "print(inventory.shape)"
   ]
  },
  {
   "cell_type": "code",
   "execution_count": 5,
   "id": "e9a440f1-c411-47a3-920b-3663fbb9ef7a",
   "metadata": {},
   "outputs": [
    {
     "name": "stdout",
     "output_type": "stream",
     "text": [
      "['Location1', 'Location2', 'Location3', 'Location4']\n",
      "['Product1', 'Product2', 'Product3', 'Product4', 'Product5']\n"
     ]
    }
   ],
   "source": [
    "print(inventory.columns.tolist())\n",
    "print(inventory.index.tolist())"
   ]
  },
  {
   "cell_type": "code",
   "execution_count": 6,
   "id": "a5fc9fb3-3055-46bb-abd0-1004cc413d92",
   "metadata": {},
   "outputs": [
    {
     "name": "stdout",
     "output_type": "stream",
     "text": [
      "Location1    int64\n",
      "Location2    int64\n",
      "Location3    int64\n",
      "Location4    int64\n",
      "dtype: object\n"
     ]
    }
   ],
   "source": [
    "print(inventory.dtypes)"
   ]
  },
  {
   "cell_type": "code",
   "execution_count": 7,
   "id": "0afd8109-a663-4f18-87ee-45f5798ed9ec",
   "metadata": {},
   "outputs": [
    {
     "name": "stdout",
     "output_type": "stream",
     "text": [
      "Location1    0\n",
      "Location2    0\n",
      "Location3    0\n",
      "Location4    0\n",
      "dtype: int64\n"
     ]
    }
   ],
   "source": [
    "print(inventory.isnull().sum())"
   ]
  },
  {
   "cell_type": "code",
   "execution_count": 8,
   "id": "adc79028-a9d5-4192-a425-4adeea51a0a2",
   "metadata": {},
   "outputs": [
    {
     "name": "stdout",
     "output_type": "stream",
     "text": [
      "Location1    300\n",
      "Location2    400\n",
      "Location3    350\n",
      "Location4    500\n",
      "Name: Product3, dtype: int64\n"
     ]
    }
   ],
   "source": [
    "print(inventory.loc[\"Product3\"])"
   ]
  },
  {
   "cell_type": "code",
   "execution_count": 9,
   "id": "8ebb9003-2f4f-4c7b-acaf-d2e17317670d",
   "metadata": {},
   "outputs": [
    {
     "name": "stdout",
     "output_type": "stream",
     "text": [
      "Product1    200\n",
      "Product2     60\n",
      "Product3    400\n",
      "Product4    250\n",
      "Product5     90\n",
      "Name: Location2, dtype: int64\n"
     ]
    }
   ],
   "source": [
    "print(inventory[\"Location2\"])"
   ]
  },
  {
   "cell_type": "code",
   "execution_count": 10,
   "id": "94a1dc1e-1346-45a2-bec1-c6cfe4af6000",
   "metadata": {},
   "outputs": [
    {
     "name": "stdout",
     "output_type": "stream",
     "text": [
      "          Location1  Location3\n",
      "Product1        100        150\n",
      "Product4        200        220\n"
     ]
    }
   ],
   "source": [
    "print(inventory.loc[[\"Product1\", \"Product4\"], [\"Location1\", \"Location3\"]])"
   ]
  },
  {
   "cell_type": "code",
   "execution_count": 11,
   "id": "ac631c62-9f34-4c59-97b8-f56170a1adcc",
   "metadata": {},
   "outputs": [
    {
     "name": "stdout",
     "output_type": "stream",
     "text": [
      "          Location1  Location2\n",
      "Product1        100        200\n",
      "Product2         50         60\n",
      "Product3        300        400\n"
     ]
    }
   ],
   "source": [
    "print(inventory.iloc[:3, :2])"
   ]
  },
  {
   "cell_type": "code",
   "execution_count": 12,
   "id": "66e2b2f2-f241-4de9-af54-aea416350217",
   "metadata": {},
   "outputs": [
    {
     "name": "stdout",
     "output_type": "stream",
     "text": [
      "70\n"
     ]
    }
   ],
   "source": [
    "print(inventory.at[\"Product5\", \"Location3\"])"
   ]
  },
  {
   "cell_type": "code",
   "execution_count": 13,
   "id": "c4757dea-b39c-48b7-b732-2760a2b16627",
   "metadata": {},
   "outputs": [
    {
     "name": "stdout",
     "output_type": "stream",
     "text": [
      "          Location1  Location2  Location3  Location4\n",
      "Product1        100        200        150        300\n",
      "Product2         50         60         40        120\n",
      "Product3        300        400        350        500\n",
      "Product4        200        250        220        270\n",
      "Product5         80         90         70        100\n"
     ]
    }
   ],
   "source": [
    "inventory.at[\"Product2\", \"Location4\"] = 120\n",
    "print(inventory)"
   ]
  },
  {
   "cell_type": "code",
   "execution_count": 14,
   "id": "1a6d7ec6-ddd7-41db-8d63-806807299877",
   "metadata": {},
   "outputs": [
    {
     "name": "stdout",
     "output_type": "stream",
     "text": [
      "          Location1  Location2  Location3  Location4\n",
      "Product1        100        200        150        300\n",
      "Product2         50         60         40        120\n",
      "Product3        300        400        350        500\n",
      "Product4        200        250        220        270\n",
      "Product5         80         90         70        100\n",
      "Product6        150        180        140        200\n"
     ]
    }
   ],
   "source": [
    "inventory.loc[\"Product6\"] = [150, 180, 140, 200]\n",
    "print(inventory)"
   ]
  },
  {
   "cell_type": "code",
   "execution_count": 15,
   "id": "6f7fed86-a602-44b3-ae85-6880ab282b51",
   "metadata": {},
   "outputs": [
    {
     "name": "stdout",
     "output_type": "stream",
     "text": [
      "          Location1  Location2  Location3  Location4\n",
      "Product1        110        210        160        310\n",
      "Product2         60         70         50        130\n",
      "Product3        310        410        360        510\n",
      "Product4        210        260        230        280\n",
      "Product5         90        100         80        110\n",
      "Product6        160        190        150        210\n"
     ]
    }
   ],
   "source": [
    "inventory += 10\n",
    "print(inventory)"
   ]
  },
  {
   "cell_type": "code",
   "execution_count": 16,
   "id": "b9350082-77e5-4be1-8d40-e7576f36a7bc",
   "metadata": {},
   "outputs": [
    {
     "name": "stdout",
     "output_type": "stream",
     "text": [
      "          Location1  Location2  Location3  Location4\n",
      "Product1        110        210        160        310\n",
      "Product2         60         70         50        130\n",
      "Product3        310        410        360        510\n",
      "Product4        205        255        225        275\n",
      "Product5         90        100         80        110\n",
      "Product6        160        190        150        210\n"
     ]
    }
   ],
   "source": [
    "inventory.loc[\"Product4\"] -= 5\n",
    "print(inventory)"
   ]
  },
  {
   "cell_type": "code",
   "execution_count": 17,
   "id": "43f2001a-7526-4fa9-92a6-7682b85c8cce",
   "metadata": {},
   "outputs": [
    {
     "name": "stdout",
     "output_type": "stream",
     "text": [
      "          Location1  Location2  Location3  Location4\n",
      "Product1       11.0       21.0       16.0       31.0\n",
      "Product2        6.0        7.0        5.0       13.0\n",
      "Product3       31.0       41.0       36.0       51.0\n",
      "Product4       20.5       25.5       22.5       27.5\n",
      "Product5        9.0       10.0        8.0       11.0\n",
      "Product6       16.0       19.0       15.0       21.0\n"
     ]
    }
   ],
   "source": [
    "stock_percentage = (inventory / 1000) * 100\n",
    "print(stock_percentage)"
   ]
  },
  {
   "cell_type": "code",
   "execution_count": 18,
   "id": "91c7ccb1-4a6d-43d7-9098-cbe4a6c4c84e",
   "metadata": {},
   "outputs": [
    {
     "name": "stdout",
     "output_type": "stream",
     "text": [
      "Product1     790\n",
      "Product2     310\n",
      "Product3    1590\n",
      "Product4     960\n",
      "Product5     380\n",
      "Product6     710\n",
      "dtype: int64\n"
     ]
    }
   ],
   "source": [
    "print(inventory.sum(axis=1))"
   ]
  },
  {
   "cell_type": "code",
   "execution_count": 21,
   "id": "32028a5a-2a61-4583-bb7f-b74634faf415",
   "metadata": {},
   "outputs": [
    {
     "name": "stdout",
     "output_type": "stream",
     "text": [
      "Location1     935\n",
      "Location2    1235\n",
      "Location3    1025\n",
      "Location4    1545\n",
      "dtype: int64\n"
     ]
    }
   ],
   "source": [
    "print(inventory.sum(axis=0))"
   ]
  },
  {
   "cell_type": "code",
   "execution_count": 20,
   "id": "b3bc2e45-f096-426f-aabf-95d7746f9ccf",
   "metadata": {},
   "outputs": [
    {
     "name": "stdout",
     "output_type": "stream",
     "text": [
      "Product3\n"
     ]
    }
   ],
   "source": [
    "print(inventory.sum(axis=1).idxmax())"
   ]
  },
  {
   "cell_type": "code",
   "execution_count": 22,
   "id": "6451d69c-5a7e-4f57-9b9c-fae7e54d790d",
   "metadata": {},
   "outputs": [
    {
     "name": "stdout",
     "output_type": "stream",
     "text": [
      "Location1\n"
     ]
    }
   ],
   "source": [
    "print(inventory.sum(axis=0).idxmin())"
   ]
  },
  {
   "cell_type": "code",
   "execution_count": 23,
   "id": "70892f9a-3576-4605-9b59-59a0c887eebc",
   "metadata": {},
   "outputs": [
    {
     "name": "stdout",
     "output_type": "stream",
     "text": [
      "Location1    155.833333\n",
      "Location2    205.833333\n",
      "Location3    170.833333\n",
      "Location4    257.500000\n",
      "dtype: float64\n"
     ]
    }
   ],
   "source": [
    "print(inventory.mean())"
   ]
  },
  {
   "cell_type": "code",
   "execution_count": 24,
   "id": "6f6edf3a-1a6e-467b-ac0e-50a44c46d27e",
   "metadata": {},
   "outputs": [
    {
     "name": "stdout",
     "output_type": "stream",
     "text": [
      "          Location1  Location2  Location3  Location4  Total Stock\n",
      "Product1        110        210        160        310          790\n",
      "Product2         60         70         50        130          310\n",
      "Product3        310        410        360        510         1590\n",
      "Product4        205        255        225        275          960\n",
      "Product5         90        100         80        110          380\n",
      "Product6        160        190        150        210          710\n"
     ]
    }
   ],
   "source": [
    "inventory[\"Total Stock\"] = inventory.sum(axis=1)\n",
    "print(inventory)"
   ]
  },
  {
   "cell_type": "code",
   "execution_count": null,
   "id": "69985750-f3be-4444-9260-072085839bea",
   "metadata": {},
   "outputs": [],
   "source": [
    "inventory = inventory.sort_values(by=\"Total Stock\", ascending=False)\n",
    "print(inventory)"
   ]
  }
 ],
 "metadata": {
  "kernelspec": {
   "display_name": "Python 3 (ipykernel)",
   "language": "python",
   "name": "python3"
  },
  "language_info": {
   "codemirror_mode": {
    "name": "ipython",
    "version": 3
   },
   "file_extension": ".py",
   "mimetype": "text/x-python",
   "name": "python",
   "nbconvert_exporter": "python",
   "pygments_lexer": "ipython3",
   "version": "3.12.3"
  }
 },
 "nbformat": 4,
 "nbformat_minor": 5
}
